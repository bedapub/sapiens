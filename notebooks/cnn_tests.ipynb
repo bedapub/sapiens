{
 "cells": [
  {
   "cell_type": "code",
   "execution_count": 1,
   "id": "b6ec8661-a924-4c84-bdd3-c255dff53a72",
   "metadata": {},
   "outputs": [],
   "source": [
    "import torch\n",
    "from sapiens.cnn import ResCNN, ResCNNConfig\n",
    "from sapiens.utils import Dotdict\n",
    "from sapiens.index import OntologyIndex, BuildConfig\n",
    "import tomli\n",
    "import json\n",
    "from random import randint\n",
    "from sapiens_api.utils import *\n",
    "from sapiens_api.sapiens.stringops import SubstringExtractor"
   ]
  },
  {
   "cell_type": "code",
   "execution_count": null,
   "id": "6188aa3f-7dbe-490c-9f89-e85faea1bf48",
   "metadata": {},
   "outputs": [],
   "source": [
    "config = ResCNNConfig(\n",
    "    tokenizer = \"michiyasunaga/BioLinkBERT-large\",\n",
    "    vocab_size =  28895,\n",
    "    aggregate = \"attentionpool\",\n",
    "    in_dim = 1024,\n",
    "    block_dim = 256,\n",
    "    out_dim = 256,\n",
    "    dropout = 0.0,\n",
    "    depth = 2\n",
    ")\n",
    "embedder = ResCNN(config)\n",
    "embedder.load_ckpt(\"sapiens/resources/checkpoints/99d2852/run3/checkpoint_e4.pt\")\n",
    "embedder.eval()"
   ]
  },
  {
   "cell_type": "code",
   "execution_count": 3,
   "id": "9ef52caa-b630-484b-abc2-191f2775f444",
   "metadata": {},
   "outputs": [],
   "source": [
    "import spacy\n",
    "extractor = SubstringExtractor(spacy.load(\"en_ner_craft_md\"))"
   ]
  },
  {
   "cell_type": "code",
   "execution_count": 4,
   "id": "b24d096d-8405-42ef-81fa-df6474d46f5d",
   "metadata": {},
   "outputs": [],
   "source": [
    "GO_index = OntologyIndex(ontopath=\"sapiens/resources/ontologies/GO/go_BP_subset.json\", distance_measure=\"cosine\")\n",
    "GO_index.load_index(\"sapiens/resources/index/index_cnn/\")"
   ]
  },
  {
   "cell_type": "code",
   "execution_count": 100,
   "id": "68089778-a944-410d-830c-074e8e9451dc",
   "metadata": {},
   "outputs": [
    {
     "data": {
      "text/plain": [
       "'livers injected with IL6  SOCS3  knockout versus wildtype.'"
      ]
     },
     "execution_count": 100,
     "metadata": {},
     "output_type": "execute_result"
    }
   ],
   "source": [
    "c7 = json.load(open(\"sapiens/resources/msigdb/msigdb_C7.json\", \"r\"))\n",
    "i = randint(0, len(c7))\n",
    "test_case = list(c7.keys())[i]\n",
    "test_case = \" \".join(test_case.lower().split(\"_\")[1:-2])\n",
    "test_case_desc =  c7[list(c7.keys())[i]][\"DESCRIPTION_BRIEF\"]\n",
    "test_case_desc = preprocess(test_case_desc)\n",
    "test_case_desc"
   ]
  },
  {
   "cell_type": "code",
   "execution_count": 111,
   "id": "c1426160-f3e2-493f-949a-a7d434452815",
   "metadata": {},
   "outputs": [
    {
     "data": {
      "text/plain": [
       "[GO:0010941|regulation of cell death,\n",
       " GO:0002819|regulation of adaptive immune response,\n",
       " GO:0002920|regulation of humoral immune response,\n",
       " GO:0050776|regulation of immune response,\n",
       " GO:0031347|regulation of defense response,\n",
       " GO:1905677|regulation of adaptive immune effector response,\n",
       " GO:0051128|regulation of cell organization,\n",
       " GO:0065007|regulation,\n",
       " GO:0060330|regulation of response to immune interferon,\n",
       " GO:0070232|regulation of T cell apoptosis,\n",
       " GO:0001776|immune cell homeostasis,\n",
       " GO:0019725|cellular homeostasis,\n",
       " GO:0002834|regulation of response to tumor cell,\n",
       " GO:2000269|regulation of fibroblast apoptosis,\n",
       " GO:1905679|up regulation of adaptive immune effector response,\n",
       " GO:0042981|regulation of apoptosis,\n",
       " GO:0061519|macrophage homeostasis,\n",
       " GO:1905679|positive regulation of adaptive immune effector response,\n",
       " GO:0042592|regulation of homeostatic process,\n",
       " GO:0042592|homeostasis,\n",
       " GO:0002821|up regulation of adaptive immune response,\n",
       " GO:0002922|up regulation of humoral immune response,\n",
       " GO:0097009|regulation of energy homeostasis,\n",
       " GO:0070228|regulation of lymphocyte apoptosis,\n",
       " GO:0071888|macrophage apoptosis]"
      ]
     },
     "execution_count": 111,
     "metadata": {},
     "output_type": "execute_result"
    }
   ],
   "source": [
    "txt_input = \"change state cell organism result interleukin-6 stimulus\"\n",
    "embedding = embedder([txt_input]).detach().squeeze().numpy()\n",
    "topk, distances = GO_index.search(embedding, 25)\n",
    "topk"
   ]
  },
  {
   "cell_type": "code",
   "execution_count": 65,
   "id": "f49835e6-e691-44ed-b508-12c961e6c3c6",
   "metadata": {},
   "outputs": [
    {
     "data": {
      "text/plain": [
       "([GO:1903980|activation of microglial cell activation,\n",
       "  GO:1902565|activation of neutrophil activation,\n",
       "  GO:0045917|activation of complement activation,\n",
       "  GO:0050870|activation of T cell activation,\n",
       "  GO:0050871|activation of B cell activation],\n",
       " [35, 34, 34, 33, 33])"
      ]
     },
     "execution_count": 65,
     "metadata": {},
     "output_type": "execute_result"
    }
   ],
   "source": [
    "rerank(test_case_desc, topk, 5)"
   ]
  },
  {
   "cell_type": "markdown",
   "id": "6662b419-d63d-4bf6-990a-66d84bc74383",
   "metadata": {},
   "source": [
    "### Model debugging\n",
    "\n",
    "Here we look at the attention weights for each token in the signature description"
   ]
  },
  {
   "cell_type": "code",
   "execution_count": 18,
   "id": "df5473f8-5c14-42be-890e-54965f5d234e",
   "metadata": {},
   "outputs": [],
   "source": [
    "X = embedder.bert_base([test_case_desc])\n",
    "X2 = torch.zeros(size=X.shape)\n",
    "test = embedder.debug(X)\n",
    "test_base = embedder.debug(torch.zeros(size=X2.shape))\n",
    "toks = embedder.bert_base([test_case_desc],return_option=\"toks_only\").tokens()"
   ]
  },
  {
   "cell_type": "code",
   "execution_count": 19,
   "id": "08907dc9-cf65-4d05-aa58-63400cc3bd08",
   "metadata": {},
   "outputs": [
    {
     "data": {
      "image/png": "[encoded data removed]",
      "text/plain": [
       "<Figure size 640x480 with 1 Axes>"
      ]
     },
     "metadata": {},
     "output_type": "display_data"
    }
   ],
   "source": [
    "import matplotlib.pyplot as plt\n",
    "\n",
    "def attn(X):\n",
    "    return torch.nn.functional.softmax(embedder.agg.Q(X.mT), dim=1).flatten()\n",
    "\n",
    "sums = torch.abs(attn(test[1])).detach()\n",
    "plt.bar(range(len(toks)), sums)\n",
    "plt.xticks(range(len(toks)), labels=toks, rotation = 90)\n",
    "plt.show()"
   ]
  },
  {
   "cell_type": "code",
   "execution_count": null,
   "id": "47354b9f-a4cf-46b2-bb13-51f36a5e5f80",
   "metadata": {},
   "outputs": [],
   "source": []
  }
 ],
 "metadata": {
  "kernelspec": {
   "display_name": "Python 3 (ipykernel)",
   "language": "python",
   "name": "python3"
  },
  "language_info": {
   "codemirror_mode": {
    "name": "ipython",
    "version": 3
   },
   "file_extension": ".py",
   "mimetype": "text/x-python",
   "name": "python",
   "nbconvert_exporter": "python",
   "pygments_lexer": "ipython3",
   "version": "3.9.15"
  }
 },
 "nbformat": 4,
 "nbformat_minor": 5
}
