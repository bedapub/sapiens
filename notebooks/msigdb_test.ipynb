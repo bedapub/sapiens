{
 "cells": [
  {
   "cell_type": "code",
   "execution_count": 1,
   "id": "0f14bdbc-bcdf-4e9d-aa7d-24cdf7121d6d",
   "metadata": {},
   "outputs": [],
   "source": [
    "import torch\n",
    "from torch.nn import CosineSimilarity, MSELoss\n",
    "from torch.utils.data import DataLoader\n",
    "import json\n",
    "import pandas as pd\n",
    "from sapiens.cnn import ResCNN, ResCNNConfig\n",
    "from sapiens.data import Dataset\n",
    "from typing import List\n",
    "from torch.optim import Adam\n",
    "from torch.optim.lr_scheduler import LinearLR"
   ]
  },
  {
   "cell_type": "code",
   "execution_count": 331,
   "id": "499d5824-496c-4f04-9cb2-e0a4e74236a8",
   "metadata": {},
   "outputs": [],
   "source": [
    "config = ResCNNConfig(\n",
    "    tokenizer = \"michiyasunaga/BioLinkBERT-large\",\n",
    "    vocab_size =  28895,\n",
    "    aggregate = \"attentionpool\",\n",
    "    in_dim = 1024,\n",
    "    block_dim = 256,\n",
    "    out_dim = 256,\n",
    "    dropout = 0.15,\n",
    "    depth = 2,\n",
    "    max_length=100\n",
    ")\n",
    "model = ResCNN(config)"
   ]
  },
  {
   "cell_type": "code",
   "execution_count": 387,
   "id": "84be824c-da37-44a8-96ae-3f543b0de925",
   "metadata": {},
   "outputs": [],
   "source": [
    "model.load_ckpt(\"sapiens/resources/checkpoints/99d2852/run3/checkpoint_e4_msigdb_biosses.pt\")"
   ]
  },
  {
   "cell_type": "code",
   "execution_count": 363,
   "id": "a3e07a90-afa5-48aa-b48d-093543421bdd",
   "metadata": {},
   "outputs": [],
   "source": [
    "model.freeze_embeds()\n",
    "for p in model.parameters(): p.requires_grad = False\n",
    "for p in model.agg.parameters(): p.requires_grad = True"
   ]
  },
  {
   "cell_type": "code",
   "execution_count": 364,
   "id": "affbba92-e484-4090-8dab-a201166ab47c",
   "metadata": {},
   "outputs": [],
   "source": [
    "class CosineSimilarityLoss:\n",
    "    def __init__(self):\n",
    "        self.sim = CosineSimilarity()\n",
    "        self.error = MSELoss()\n",
    "        \n",
    "    def __call__(self, source: torch.Tensor, target: torch.Tensor, score: torch.Tensor) -> torch.Tensor:\n",
    "        y_pred = self.sim(source, target)\n",
    "        loss = self.error(y_pred, score)\n",
    "        return loss\n",
    "    \n",
    "def sentsim_collate(batch: list):\n",
    "    '''collates sentence similarity data for dataloader'''\n",
    "    sent1s = [[i[0][0]] for i in batch]\n",
    "    sent2s = [[i[0][1]] for i in batch]\n",
    "    scores = torch.tensor([i[1] for i in batch])\n",
    "    return sent1s, sent2s, scores"
   ]
  },
  {
   "cell_type": "code",
   "execution_count": 365,
   "id": "f8918d48-b572-4abb-8101-ed6e9a6593e2",
   "metadata": {},
   "outputs": [],
   "source": [
    "optimizer = Adam(model.parameters(), lr=1e-5, weight_decay=1e-4)\n",
    "loader = DataLoader(dataset, batch_size = 16, pin_memory = True, collate_fn = sentsim_collate)\n",
    "scheduler = LinearLR(optimizer, start_factor = 1.0, end_factor = 0.1, total_iters = 5 * len(loader))"
   ]
  },
  {
   "cell_type": "code",
   "execution_count": 366,
   "id": "a4445760-c6d4-46af-b52c-2dc0b9d2009a",
   "metadata": {},
   "outputs": [],
   "source": [
    "dataset = Dataset(\"sapiens/datasets/MsigDB/c7_scored.json\")\n",
    "biosses = Dataset(\"sapiens/datasets/BIOSSES/train_biosses.json\")\n",
    "\n",
    "valset = Dataset(\"sapiens/datasets/BIOSSES/val_biosses.json\")\n",
    "valset.data.extend(dataset.data[34:])\n",
    "dataset.data = dataset.data[:34] + biosses.data\n",
    "valloader = DataLoader(valset, batch_size=20, collate_fn = sentsim_collate)"
   ]
  },
  {
   "cell_type": "code",
   "execution_count": 367,
   "id": "54f269ce-3d13-4f7f-9ee2-876310036e01",
   "metadata": {},
   "outputs": [
    {
     "name": "stdout",
     "output_type": "stream",
     "text": [
      "START: 0.055784761905670166\n",
      "0\n",
      "train: 0.067, val: 0.098\n",
      "train: 0.054, val: 0.098\n",
      "train: 0.053, val: 0.098\n",
      "train: 0.112, val: 0.098\n",
      "train: 0.072, val: 0.098\n",
      "train: 0.079, val: 0.098\n",
      "train: 0.056, val: 0.098\n",
      "1\n",
      "train: 0.071, val: 0.098\n",
      "train: 0.054, val: 0.098\n",
      "train: 0.053, val: 0.098\n",
      "train: 0.112, val: 0.098\n",
      "train: 0.072, val: 0.098\n",
      "train: 0.079, val: 0.098\n",
      "train: 0.056, val: 0.098\n",
      "2\n",
      "train: 0.064, val: 0.098\n",
      "train: 0.055, val: 0.098\n",
      "train: 0.053, val: 0.098\n",
      "train: 0.111, val: 0.098\n",
      "train: 0.071, val: 0.098\n",
      "train: 0.079, val: 0.098\n",
      "train: 0.056, val: 0.098\n",
      "3\n",
      "train: 0.064, val: 0.098\n",
      "train: 0.055, val: 0.098\n",
      "train: 0.053, val: 0.098\n",
      "train: 0.111, val: 0.098\n",
      "train: 0.071, val: 0.098\n",
      "train: 0.079, val: 0.098\n",
      "train: 0.056, val: 0.098\n",
      "4\n",
      "train: 0.073, val: 0.098\n",
      "train: 0.055, val: 0.098\n",
      "train: 0.053, val: 0.098\n",
      "train: 0.111, val: 0.098\n",
      "train: 0.071, val: 0.098\n",
      "train: 0.078, val: 0.098\n",
      "train: 0.056, val: 0.098\n",
      "5\n",
      "train: 0.058, val: 0.098\n",
      "train: 0.055, val: 0.098\n",
      "train: 0.053, val: 0.098\n",
      "train: 0.111, val: 0.098\n",
      "train: 0.071, val: 0.098\n",
      "train: 0.078, val: 0.098\n",
      "train: 0.056, val: 0.098\n",
      "6\n",
      "train: 0.061, val: 0.098\n",
      "train: 0.055, val: 0.098\n",
      "train: 0.053, val: 0.098\n",
      "train: 0.111, val: 0.098\n",
      "train: 0.071, val: 0.098\n",
      "train: 0.078, val: 0.098\n",
      "train: 0.055, val: 0.098\n",
      "7\n",
      "train: 0.075, val: 0.098\n",
      "train: 0.055, val: 0.098\n",
      "train: 0.053, val: 0.098\n",
      "train: 0.111, val: 0.098\n",
      "train: 0.071, val: 0.098\n",
      "train: 0.078, val: 0.098\n",
      "train: 0.055, val: 0.098\n",
      "8\n",
      "train: 0.065, val: 0.098\n",
      "train: 0.055, val: 0.098\n",
      "train: 0.053, val: 0.098\n",
      "train: 0.111, val: 0.098\n",
      "train: 0.071, val: 0.098\n",
      "train: 0.078, val: 0.098\n",
      "train: 0.055, val: 0.098\n",
      "9\n",
      "train: 0.066, val: 0.098\n",
      "train: 0.055, val: 0.098\n",
      "train: 0.053, val: 0.098\n",
      "train: 0.111, val: 0.098\n",
      "train: 0.071, val: 0.098\n",
      "train: 0.078, val: 0.098\n",
      "train: 0.055, val: 0.098\n"
     ]
    }
   ],
   "source": [
    "loss_func = CosineSimilarityLoss()\n",
    "\n",
    "sent1, sent2, scores = list(loader)[0]\n",
    "loss = loss_func(model(sent1), model(sent2), scores)\n",
    "print(\"START:\", loss.item())\n",
    "\n",
    "\n",
    "for e in range(5):\n",
    "    print(e)\n",
    "    model.train()\n",
    "    for batchidx, (sent1, sent2, scores) in enumerate(loader):\n",
    "        optimizer.zero_grad()\n",
    "        embeds1 = model(sent1)\n",
    "        embeds2 = model(sent2)\n",
    "        loss = loss_func(embeds1, embeds2, scores)\n",
    "        loss.backward()\n",
    "        optimizer.step()\n",
    "        scheduler.step()\n",
    "        print(\"train:\", f\"{loss.item():.3f}\", end=\", \")\n",
    "        \n",
    "        model.eval()\n",
    "        for (v1, v2, vscores) in valloader:\n",
    "            valemb1 = model(v1)\n",
    "            valemb2 = model(v2)\n",
    "            val_loss = loss_func(valemb1, valemb2, vscores)\n",
    "            print(\"val:\", f\"{val_loss.item():.3f}\")"
   ]
  },
  {
   "cell_type": "code",
   "execution_count": 338,
   "id": "3041bc58-aa36-4c46-ae02-ed0e6a023470",
   "metadata": {},
   "outputs": [],
   "source": [
    "torch.save(\n",
    "{\"comment\": \"pretrained on MedMen+CRAFT contrastive, then train on msigdb title/desc\",\n",
    "\"model_state_dict\": model.state_dict()},\n",
    "    \"sapiens/resources/checkpoints/99d2852/run3/checkpoint_e4_msigdb_biosses.pt\"\n",
    ")"
   ]
  },
  {
   "cell_type": "code",
   "execution_count": 339,
   "id": "5d071361-b049-4fe6-b744-936362e67e89",
   "metadata": {},
   "outputs": [],
   "source": [
    "from sapiens.index import OntologyIndex, BuildConfig\n",
    "from random import randint\n",
    "from sapiens_api.utils import preprocess"
   ]
  },
  {
   "cell_type": "code",
   "execution_count": 340,
   "id": "7da218ae-c8e4-432e-82f0-5342b731f953",
   "metadata": {},
   "outputs": [
    {
     "name": "stdout",
     "output_type": "stream",
     "text": [
      "72211/72212\r"
     ]
    }
   ],
   "source": [
    "model.eval()\n",
    "GO_index = OntologyIndex(ontopath=\"sapiens/resources/ontologies/GO/go_BP_subset.json\", distance_measure=\"cosine\")\n",
    "GO_index.infer_dataset(model, True)"
   ]
  },
  {
   "cell_type": "code",
   "execution_count": 368,
   "id": "1ac6b343-2c3b-4808-94f1-00e4cf4acc05",
   "metadata": {},
   "outputs": [
    {
     "name": "stdout",
     "output_type": "stream",
     "text": [
      "Genes up-regulated in comparison of dendritic cells (DC) stimulated with CpG DNA (TLR9 agonist) at 2 h versus DC cells stimulated with Gardiquimod (TLR7 agonist) at 2 h.\n"
     ]
    },
    {
     "data": {
      "text/plain": [
       "'dendritic cells (DC) stimulated with CpG DNA (TLR9 agonist)  versus DC cells stimulated with Gardiquimod (TLR7 agonist) .'"
      ]
     },
     "execution_count": 368,
     "metadata": {},
     "output_type": "execute_result"
    }
   ],
   "source": [
    "c7 = json.load(open(\"sapiens/resources/msigdb/msigdb_C7.json\", \"r\"))\n",
    "i = randint(0, len(c7))\n",
    "test_case = list(c7.keys())[i]\n",
    "test_case = \" \".join(test_case.lower().split(\"_\")[1:-2])\n",
    "test_case_desc =  c7[list(c7.keys())[i]][\"DESCRIPTION_BRIEF\"]\n",
    "print(test_case_desc)\n",
    "test_case_desc = preprocess(test_case_desc)\n",
    "test_case_desc"
   ]
  },
  {
   "cell_type": "code",
   "execution_count": 389,
   "id": "bbf289a5-ba8c-4a7c-8dc6-604d09f1bd19",
   "metadata": {},
   "outputs": [
    {
     "name": "stdout",
     "output_type": "stream",
     "text": [
      "CPU times: user 0 ns, sys: 0 ns, total: 0 ns\n",
      "Wall time: 6.39 ms\n"
     ]
    },
    {
     "data": {
      "text/plain": [
       "[[GO:0002749|antigen processing and presentation initiated by TLR mediated phagocytosis of antigen,\n",
       "  GO:1904241|activation of Cdc48p-Npl4p-Ufd1p AAA ATPase complex formation,\n",
       "  GO:1904241|activation of Cdc48p-Npl4p-Ufd1p AAA ATPase complex assembly,\n",
       "  GO:0044546|NLRP3 inflammasome activation,\n",
       "  GO:1904241|activation of VCP-NPL4-UFD1 AAA ATPase complex assembly,\n",
       "  GO:1904241|activation of VCP-NPL4-UFD1 AAA ATPase complex formation,\n",
       "  GO:0002291|T lymphocyte activation via T cell receptor contact with antigen bound to MHC molecule on antigen presenting cell,\n",
       "  GO:1900227|activation of NLRP3 inflammasome complex assembly,\n",
       "  GO:1901544|activation of ent-pimara-8(14),15-diene anabolism,\n",
       "  GO:0002291|T cell activation via T cell receptor contact with antigen bound to MHC molecule on antigen presenting cell,\n",
       "  GO:1900700|activation of o-orsellinic acid anabolism,\n",
       "  GO:1904241|activation of p97-Ufd1-Npl4 complex assembly,\n",
       "  GO:0002753|cytoplasmic caspase-recruiting domain (CARD) helicase signaling pathway,\n",
       "  GO:0002291|T-cell activation via T cell receptor contact with antigen bound to MHC molecule on antigen presenting cell,\n",
       "  GO:1900958|activation of 17-methylnonadec-1-ene anabolism,\n",
       "  GO:1900227|activation of NLRP3 inflammasome activation,\n",
       "  GO:1900952|activation of 18-methylnonadec-1-ene anabolism,\n",
       "  GO:1904241|activation of p97-Ufd1-Npl4 complex formation,\n",
       "  GO:0033153|T cell receptor V(D)J recombination,\n",
       "  GO:0002405|antigen sampling by dendritic cells in MALT,\n",
       "  GO:0044546|NLRP3 inflammasome complex assembly,\n",
       "  GO:0140739|NLRP6 inflammasome complex assembly,\n",
       "  GO:1900227|activation of NALP3 inflammasome complex assembly,\n",
       "  GO:0002749|antigen processing and presentation initiated by toll-like receptor mediated phagocytosis of antigen,\n",
       "  GO:0072651|interferon-tau production,\n",
       "  GO:1900227|up-regulation of NLRP3 inflammasome activation,\n",
       "  GO:1904784|NLRP1 inflammasome complex formation,\n",
       "  GO:0039699|IFIT mRNA restriction evasion by virus,\n",
       "  GO:1900694|activation of (+)-kotanin anabolism,\n",
       "  GO:0098672|evasion by virus of CRISPR-cas system,\n",
       "  GO:0072651|interferon-tau secretion,\n",
       "  GO:1900227|up regulation of NLRP3 inflammasome activation,\n",
       "  GO:1900225|regulation of NLRP3 inflammasome activation,\n",
       "  GO:0085033|activation by symbiont of host I-kappaB kinase/NF-kappaB cascade,\n",
       "  GO:0002594|stimulation of antigen processing and presentation via MHC class Ib]]"
      ]
     },
     "execution_count": 389,
     "metadata": {},
     "output_type": "execute_result"
    }
   ],
   "source": [
    "%%time\n",
    "txt_input = 'dendritic cells (DC) stimulated with CpG DNA (TLR9 agonist) versus DC cells stimulated with Gardiquimod (TLR7 agonist) .'\n",
    "embedding = model([txt_input]).detach().squeeze().numpy()\n",
    "topk, distances = GO_index.search(embedding, 35)\n",
    "topk"
   ]
  },
  {
   "cell_type": "code",
   "execution_count": null,
   "id": "d77ca103-64a4-4dda-a525-1844dd6e6252",
   "metadata": {},
   "outputs": [],
   "source": []
  },
  {
   "cell_type": "code",
   "execution_count": 420,
   "id": "d317daed-9326-4ac1-abb1-c49951e6a788",
   "metadata": {},
   "outputs": [],
   "source": [
    "response = json.load(open(\"test.json\"))\n",
    "data = [i[0][\"text\"] for i in response[\"results\"][\"GO\"]]\n",
    "\n",
    "sim = CosineSimilarity()\n",
    "ranks = []\n",
    "for d in data:\n",
    "    ranks.append((sim(torch.tensor(embedding), model([d])).detach()[0].item(), d))"
   ]
  },
  {
   "cell_type": "code",
   "execution_count": 422,
   "id": "2cb55e77-009d-4ecf-9778-3bfa7758a84c",
   "metadata": {},
   "outputs": [],
   "source": [
    "ranks.sort(key=lambda x: x[0])"
   ]
  },
  {
   "cell_type": "code",
   "execution_count": 423,
   "id": "2fb494f1-9790-4754-a4b4-c036d094fef7",
   "metadata": {},
   "outputs": [
    {
     "data": {
      "text/plain": [
       "[(0.3933355212211609, 'DNA recombination'),\n",
       " (0.4283619821071625, 'RNA-mediated DNA recombination'),\n",
       " (0.441979318857193, 'DNA ligation involved in DNA recombination'),\n",
       " (0.4475785195827484, 'DNA ligation during DNA recombination'),\n",
       " (0.4523884952068329, 'reciprocal DNA recombination'),\n",
       " (0.5129498839378357, 'duplex DNA melting'),\n",
       " (0.521191418170929, 'TLR6 signaling pathway'),\n",
       " (0.5217236876487732, 'TLR1 signaling pathway'),\n",
       " (0.5296211838722229, 'activation of macrophage activation'),\n",
       " (0.5316084027290344, 'activation of meiotic recombination'),\n",
       " (0.5323025584220886, 'TLR7 signaling pathway'),\n",
       " (0.5385515093803406, 'TLR8 signaling pathway'),\n",
       " (0.5699447989463806, 'activation of homologous recombinational repair'),\n",
       " (0.5801493525505066, 'activation of DNA recombination'),\n",
       " (0.586395263671875, 'inflammasome complex assembly'),\n",
       " (0.6042332649230957, 'MyD88-dependent TLR2 signaling pathway'),\n",
       " (0.6097202301025391, 'TLR2:TLR6 signaling pathway'),\n",
       " (0.6099355220794678, 'TLR2:TLR1 signaling pathway'),\n",
       " (0.6145557761192322, 'toll-like receptor TLR1:TLR2 signaling pathway'),\n",
       " (0.6300992369651794, 'MyD88-independent TLR signaling pathway'),\n",
       " (0.6341808438301086, 'MyD88-dependent TLR signaling pathway'),\n",
       " (0.6490450501441956, 'NLRP1 inflammasome complex assembly'),\n",
       " (0.6587855219841003, 'NLRP1 inflammasome complex formation'),\n",
       " (0.6618333458900452, 'activation of NALP3 inflammasome complex assembly'),\n",
       " (0.6638650298118591, 'NLRP6 inflammasome complex assembly'),\n",
       " (0.6642815470695496, 'NLRP3 inflammasome complex assembly'),\n",
       " (0.6774783134460449, 'activation of duplex DNA melting'),\n",
       " (0.680417537689209, 'activation of NLRP3 inflammasome activation'),\n",
       " (0.6952216029167175, 'activation of NLRP3 inflammasome complex assembly'),\n",
       " (0.7094144821166992, 'NLRP3 inflammasome activation')]"
      ]
     },
     "execution_count": 423,
     "metadata": {},
     "output_type": "execute_result"
    }
   ],
   "source": [
    "ranks"
   ]
  },
  {
   "cell_type": "code",
   "execution_count": 139,
   "id": "2d0c9836-d016-4c0e-91e6-b04778b6d179",
   "metadata": {},
   "outputs": [],
   "source": [
    "import spacy\n",
    "from spacy.matcher import Matcher\n",
    "\n",
    "nlp = spacy.load(\"en_ner_craft_md\")"
   ]
  },
  {
   "cell_type": "code",
   "execution_count": null,
   "id": "b4f6dca8-b59d-4e34-88da-7a4332ef8790",
   "metadata": {},
   "outputs": [],
   "source": [
    "matcher = Matcher(nlp.vocab)\n",
    "# Add match ID \"HelloWorld\" with no callback and one pattern\n",
    "pattern = [{\"LIKE_NUM\": True}]\n",
    "matcher.add(\"HelloWorld\", [pattern])"
   ]
  },
  {
   "cell_type": "code",
   "execution_count": 385,
   "id": "ee6db672-c299-4cc9-ac27-d49f401faf0b",
   "metadata": {},
   "outputs": [],
   "source": [
    "X = model.bert_base([test_case_desc])\n",
    "X2 = torch.zeros(size=X.shape)\n",
    "test = model.debug(X)\n",
    "test_base = model.debug(torch.zeros(size=X2.shape))\n",
    "toks = model.bert_base([test_case_desc],return_option=\"toks_only\").tokens()"
   ]
  },
  {
   "cell_type": "code",
   "execution_count": 386,
   "id": "f5847d61-421a-4b02-bba2-22070a972a05",
   "metadata": {},
   "outputs": [
    {
     "data": {
      "image/png": "[encoded data removed]",
      "text/plain": [
       "<Figure size 640x480 with 1 Axes>"
      ]
     },
     "metadata": {},
     "output_type": "display_data"
    }
   ],
   "source": [
    "import matplotlib.pyplot as plt\n",
    "\n",
    "def attn(X):\n",
    "    return torch.nn.functional.softmax(model.agg.Q(X.mT), dim=1).flatten()\n",
    "\n",
    "sums = torch.abs(attn(test[1])).detach()\n",
    "plt.bar(range(len(toks)), sums)\n",
    "plt.xticks(range(len(toks)), labels=toks, rotation = 90)\n",
    "plt.show()"
   ]
  },
  {
   "cell_type": "code",
   "execution_count": null,
   "id": "c450667f-b458-4fa2-9984-05754e0d398e",
   "metadata": {},
   "outputs": [],
   "source": []
  }
 ],
 "metadata": {
  "kernelspec": {
   "display_name": "Python 3 (ipykernel)",
   "language": "python",
   "name": "python3"
  },
  "language_info": {
   "codemirror_mode": {
    "name": "ipython",
    "version": 3
   },
   "file_extension": ".py",
   "mimetype": "text/x-python",
   "name": "python",
   "nbconvert_exporter": "python",
   "pygments_lexer": "ipython3",
   "version": "3.9.15"
  }
 },
 "nbformat": 4,
 "nbformat_minor": 5
}
